{
 "cells": [
  {
   "cell_type": "code",
   "execution_count": 11,
   "metadata": {
    "collapsed": true
   },
   "outputs": [],
   "source": [
    "import re\n",
    "import math \n",
    "import numpy as np\n",
    "from collections import Counter\n",
    "# -*- coding: <utf-8> -*-\n",
    "\n",
    "#The function below calculates bigrams for the trainig data after doing some text processing.  \n",
    "def bigrams_training(x):\n",
    "    a = open(x).read()\n",
    "    b = a.replace(\"\\'\", \"\") \n",
    "    c= b.lower() #making everything lower case\n",
    "    words = re.findall('\\w+|\\.|\\?', c)\n",
    "    bigrams = Counter(zip(words,words[1:]))\n",
    "    return bigrams  "
   ]
  },
  {
   "cell_type": "code",
   "execution_count": 12,
   "metadata": {
    "collapsed": true,
    "scrolled": true
   },
   "outputs": [],
   "source": [
    "#The function below calculates unigrams for the training data after doing some text processing.  \n",
    "def unigrams_training(x):\n",
    "    a = open(x).read()\n",
    "    b = a.replace(\"\\'\", \"\") \n",
    "    c= b.lower() #making everything lower case\n",
    "    words = re.findall('\\w+|\\.|\\?', c)\n",
    "    unigrams = Counter(zip(words))\n",
    "    return unigrams\n",
    "\n",
    "#The function below calculates the MLE for the training data.  \n",
    "def probs_training(bigrams, unigrams):\n",
    "    d = {}\n",
    "    for k_b, v_b in bigrams.items():\n",
    "        for  k_u, v_u in unigrams.items():\n",
    "            if k_b[0] in k_u:\n",
    "                prob = v_b/v_u\n",
    "                d[k_b] = prob\n",
    "                #print(prob)\n",
    "    return d\n",
    "\n",
    "\n",
    "#the function below calculates bigrams for the test data after doing some text processing.\n",
    "def bigrams_test():\n",
    "    test_bi = []\n",
    "    with open('LangId.test') as f:\n",
    "        #content = f.readlines()\n",
    "        for line in f:\n",
    "            line = line.lower()\n",
    "            w = re.findall('\\w+|\\.|\\?', line)\n",
    "            bigrams = Counter(zip(w,w[1:]))\n",
    "            test_bi.append(list(bigrams.keys()))\n",
    "    return test_bi    \n",
    "\n",
    "\n",
    "\n",
    "#The variables below assign different probability models for each language/ \n",
    "eng_bigrams = bigrams_training('LangId.train.English')\n",
    "#print(eng_bigrams)\n",
    "eng_unigrams = unigrams_training('LangId.train.English')\n",
    "probs_eng = probs_training(eng_bigrams, eng_unigrams)\n",
    "\n",
    "\n",
    "fr_bigrams = bigrams_training('LangId.train.French')\n",
    "fr_unigrams = unigrams_training('LangId.train.French')\n",
    "probs_fr = probs_training(fr_bigrams, fr_unigrams)\n",
    "\n",
    "it_bigrams = bigrams_training('LangId.train.Italian')\n",
    "it_unigrams = unigrams_training('LangId.train.Italian')\n",
    "probs_it = probs_training(it_bigrams, it_unigrams)\n",
    "#print(probs_it)\n",
    "\n",
    "test_bigrams = bigrams_test()  \n",
    "#print(test_bigrams)\n"
   ]
  },
  {
   "cell_type": "code",
   "execution_count": 13,
   "metadata": {
    "collapsed": true
   },
   "outputs": [],
   "source": [
    "#The function below evaluates each model and applies add-one smoothing.\n",
    "def probs_test():\n",
    "    log_probs = []\n",
    "    eval_probs = []\n",
    "    for line_no, line in enumerate(test_bigrams):\n",
    "        eval_probs.append({'fr': [] , 'en': [], 'it': []})\n",
    "        for bigram in line:\n",
    "            if bigram in probs_eng:\n",
    "                eval_probs[line_no]['en'].append(math.log(probs_eng[bigram]))\n",
    "            else:\n",
    "                eval_probs[line_no]['en'].append(1.0)\n",
    "            if bigram in probs_fr:\n",
    "                eval_probs[line_no]['fr'].append(math.log(probs_fr[bigram]))\n",
    "            else:\n",
    "                eval_probs[line_no]['fr'].append(1.0)\n",
    "            if bigram in probs_it:\n",
    "                eval_probs[line_no]['it'].append(math.log(probs_it[bigram]))\n",
    "            else:\n",
    "                eval_probs[line_no]['it'].append(1.0)\n",
    "                                                 \n",
    "        log_probs.append((-sum(eval_probs[line_no]['en']), \n",
    "                         -sum(eval_probs[line_no]['fr']), \n",
    "                          -sum(eval_probs[line_no]['it'])))\n",
    "                                                 \n",
    "    return log_probs\n",
    "\n",
    "\n",
    "import numpy as np\n",
    "test_probs = probs_test()\n",
    "np_test_probs = np.array(test_probs)\n",
    "classification = np.argmax(np_test_probs, axis=1)\n",
    "demux = ['English', 'French', 'Italian']\n",
    "result = [demux[i] for i in classification]\n",
    "\n",
    "#The code below does some simple data processing to save the file in a friendly format for the reader. \n",
    "l = []\n",
    "for i in range(1, 301):\n",
    "    l.append(i)\n",
    "\n",
    "import csv\n",
    "with open('wordLangId.out.txt', 'w') as f:\n",
    "    writer = csv.writer(f, delimiter=' ')\n",
    "    writer.writerows(zip(l,result))"
   ]
  },
  {
   "cell_type": "code",
   "execution_count": 15,
   "metadata": {},
   "outputs": [
    {
     "name": "stdout",
     "output_type": "stream",
     "text": [
      "300\n"
     ]
    }
   ],
   "source": [
    "#The code below gives me how many times I got the language correctly.\n",
    "with open('LangId.sol', 'r') as myfile:\n",
    "    data=myfile.read()\n",
    "for i in data:\n",
    "     w = re.findall('\\w+', data)\n",
    "no_integers = [x for x in w if not (x.isdigit() \n",
    "                                         or x[0] == '-' and x[1:].isdigit())]\n",
    "import itertools\n",
    "\n",
    "\n",
    "print(len([i for i, j in zip(result, no_integers) if i == j]))"
   ]
  },
  {
   "cell_type": "code",
   "execution_count": null,
   "metadata": {
    "collapsed": true
   },
   "outputs": [],
   "source": []
  }
 ],
 "metadata": {
  "kernelspec": {
   "display_name": "Python 3",
   "language": "python",
   "name": "python3"
  },
  "language_info": {
   "codemirror_mode": {
    "name": "ipython",
    "version": 3
   },
   "file_extension": ".py",
   "mimetype": "text/x-python",
   "name": "python",
   "nbconvert_exporter": "python",
   "pygments_lexer": "ipython3",
   "version": "3.6.3"
  }
 },
 "nbformat": 4,
 "nbformat_minor": 2
}
